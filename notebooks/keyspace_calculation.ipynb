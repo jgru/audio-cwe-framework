{
 "cells": [
  {
   "cell_type": "markdown",
   "metadata": {},
   "source": [
    "# Calculation of the keyspace of the Audio CWE-Framework"
   ]
  },
  {
   "cell_type": "code",
   "execution_count": 1,
   "metadata": {
    "collapsed": true
   },
   "outputs": [],
   "source": [
    "%matplotlib inline\n",
    "import math\n",
    "import numpy as np"
   ]
  },
  {
   "cell_type": "code",
   "execution_count": 2,
   "metadata": {
    "collapsed": true
   },
   "outputs": [],
   "source": [
    "def calculate_embedding_key_space(L, L_w, step):\n",
    "    return np.math.factorial(L_w)*((L/L_w * min(step,L/L_w-1))**L_w)\n",
    "\n",
    "def calculate_verification_key_space_2(n):\n",
    "    return math.sqrt(n*math.log(n, 2))"
   ]
  },
  {
   "cell_type": "markdown",
   "metadata": {},
   "source": [
    "## Calculate the size of the embedding key space of Schmitz' method"
   ]
  },
  {
   "cell_type": "code",
   "execution_count": 3,
   "metadata": {
    "collapsed": false
   },
   "outputs": [
    {
     "name": "stdout",
     "output_type": "stream",
     "text": [
      "L=128, L_W=32, Step=5\n",
      "====================================\n",
      "8.994388049045063e+69  different possibilities\n",
      "232.382063675  key size in bits\n",
      "------------------------------------\n",
      "\n",
      "\n",
      "L=224, L_W=56, Step=5\n",
      "====================================\n",
      "1.9320506911369532e+135  different possibilities\n",
      "449.410425756  key size in bits\n",
      "------------------------------------\n",
      "\n",
      "\n"
     ]
    }
   ],
   "source": [
    "# Calculate the key size for \n",
    "lower_bound = calculate_embedding_key_space(128, 32, 5)\n",
    "print('L=128, L_W=32, Step=5')\n",
    "print('====================================')\n",
    "print(lower_bound, ' different possibilities')\n",
    "print(np.log2(lower_bound), ' key size in bits')\n",
    "print('------------------------------------\\n\\n')\n",
    "lower_bound = calculate_embedding_key_space(224, 56, 5)\n",
    "print('L=224, L_W=56, Step=5')\n",
    "print('====================================')\n",
    "print(lower_bound, ' different possibilities')\n",
    "print(np.log2(lower_bound), ' key size in bits')\n",
    "print('------------------------------------\\n\\n')"
   ]
  },
  {
   "cell_type": "markdown",
   "metadata": {},
   "source": [
    "## Calculate the needed graph size for the asymmetric verification protocol\n",
    "In the following section the number of nodes is calculated, so that solving the GI-problem is equally hard to break a symmetric cipher with 128 bits key length."
   ]
  },
  {
   "cell_type": "code",
   "execution_count": 4,
   "metadata": {
    "collapsed": false
   },
   "outputs": [
    {
     "name": "stdout",
     "output_type": "stream",
     "text": [
      "Targeted key size:  128\n",
      "Calculated number of nodes:  1546\n",
      "Key size in bits:  127.97978683240495\n",
      "Difference:  0.020213167595045434\n"
     ]
    }
   ],
   "source": [
    "c=3\n",
    "target = 128\n",
    "print('Targeted key size: ', target)\n",
    "\n",
    "\n",
    "# num nodes\n",
    "n = 0\n",
    "# resulting key size\n",
    "result = 0\n",
    "# calculate the key size for various graph sizes\n",
    "for i in range(1,100000):\n",
    "    tmp = calculate_verification_key_space_2(i)\n",
    "    \n",
    "    if i == 1:\n",
    "        result = tmp\n",
    "        n = i\n",
    "\n",
    "    if abs(tmp-target) < abs(result-target):\n",
    "        n = i\n",
    "        result = tmp\n",
    "\n",
    "\n",
    "print('Calculated number of nodes: ', n)\n",
    "print('Key size in bits: ', result)\n",
    "print('Difference: ', target-result)\n"
   ]
  }
 ],
 "metadata": {
  "kernelspec": {
   "display_name": "Python 3",
   "language": "python",
   "name": "python3"
  },
  "language_info": {
   "codemirror_mode": {
    "name": "ipython",
    "version": 3
   },
   "file_extension": ".py",
   "mimetype": "text/x-python",
   "name": "python",
   "nbconvert_exporter": "python",
   "pygments_lexer": "ipython3",
   "version": "3.5.1"
  }
 },
 "nbformat": 4,
 "nbformat_minor": 0
}

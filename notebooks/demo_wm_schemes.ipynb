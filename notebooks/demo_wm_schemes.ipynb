{
 "cells": [
  {
   "cell_type": "markdown",
   "metadata": {},
   "source": [
    "# Demonstration of the implemented histogram based watermarking schemes for audio signals\n",
    "The following notebook illustrates the implemented histogram-based watermarking schemes. All of them mark the amplitude histogram of an audio signal.\n"
   ]
  },
  {
   "cell_type": "code",
   "execution_count": 1,
   "metadata": {
    "collapsed": true
   },
   "outputs": [],
   "source": [
    "# Import some general dependencies\n",
    "%matplotlib inline\n",
    "import soundfile as sf\n",
    "import numpy as np\n",
    "import os.path\n",
    "import matplotlib.pyplot as plt"
   ]
  },
  {
   "cell_type": "markdown",
   "metadata": {},
   "source": [
    "## Xiang's method\n",
    "This is a demonstration of using Xiang's method"
   ]
  },
  {
   "cell_type": "code",
   "execution_count": 2,
   "metadata": {
    "collapsed": false
   },
   "outputs": [
    {
     "name": "stdout",
     "output_type": "stream",
     "text": [
      "/Users/gru/Documents/skripte/CSM/scripts/ws_15_16/38777 Masterthesis/src/audio_cwe_framework\n"
     ]
    }
   ],
   "source": [
    "# Import the module, which implements the proposed method\n",
    "%cd ../\n",
    "from core.audio_cwe.xiang_wm_scheme import XiangWMSystem \n",
    "from core.audio_cwe import watermarking_utils\n",
    "\n",
    "INPUT_DIR = './../res/testing/original_test_files/SQAM/'\n",
    "OUTPUT_DIR = './../res/demo/notebooks/schemes'\n",
    "FILENAME = '46.wav'"
   ]
  },
  {
   "cell_type": "markdown",
   "metadata": {},
   "source": [
    "### Embedding procedure"
   ]
  },
  {
   "cell_type": "code",
   "execution_count": 3,
   "metadata": {
    "collapsed": false
   },
   "outputs": [
    {
     "name": "stdout",
     "output_type": "stream",
     "text": [
      "=============================================\n",
      "Embedding  [[0 1 0 0 1 0 0 0 0 1 1 0 0 1 0 0 0 1 0 0 1 1 0 1]\n",
      " [0 1 0 1 0 0 1 1 0 1 1 1 0 1 0 0 0 1 1 0 0 1 1 1]]  via Xiang's method\n",
      "---------------------------------------------\n",
      "in channel # 0\n",
      "---------------------------------------------\n",
      "in channel # 1\n",
      "---------------------------------------------\n"
     ]
    }
   ],
   "source": [
    "# Load soundfile\n",
    "samples, samplerate = sf.read(os.path.join(INPUT_DIR, FILENAME), dtype=np.int16)\n",
    "\n",
    "# Form the watermark\n",
    "w = watermarking_utils.construct_watermark(['HdM', 'Stg'])\n",
    "key = 2.0\n",
    "# Construct the Xiangs watermarking system\n",
    "wm_system_xiang = XiangWMSystem(la=key, num_bins=3*len(w[0]), threshold=1.3, delta=0.05)\n",
    "\n",
    "# Mark the samples \n",
    "marked_samples = wm_system_xiang.embed_watermark(samples, w, key=key)\n",
    "\n",
    "# Write result to disk\n",
    "sf.write(os.path.join(OUTPUT_DIR, FILENAME[:-4]+'_marked_xiang.wav'), marked_samples, samplerate)\n",
    "iv = wm_system_xiang.get_params() # returns the parameters as dictionary\n",
    "watermarking_utils.dump_params(OUTPUT_DIR, FILENAME[:-4]+'_marked_xiang', iv=iv, mark=w)"
   ]
  },
  {
   "cell_type": "markdown",
   "metadata": {},
   "source": [
    "### Visualize result"
   ]
  },
  {
   "cell_type": "code",
   "execution_count": 4,
   "metadata": {
    "collapsed": false
   },
   "outputs": [
    {
     "data": {
      "image/png": "[encoded data removed]",
      "text/plain": [
       "<matplotlib.figure.Figure at 0x108ed4588>"
      ]
     },
     "metadata": {},
     "output_type": "display_data"
    }
   ],
   "source": [
    "# Plot the histograms of the original and the marked signal\n",
    "hist0, bins0 = XiangWMSystem.generate_histogram(samples[:, 0], wm_system_xiang.la, wm_system_xiang.num_bins, \n",
    "                                                XiangWMSystem.mean_of_absolute_values(samples[:,0]))\n",
    "width0 = 0.7 * (bins0[1] - bins0[0])\n",
    "center0 = (bins0[:-1] + bins0[1:]) / 2\n",
    "\n",
    "hist1, bins1 = XiangWMSystem.generate_histogram(marked_samples[:, 0], wm_system_xiang.la, wm_system_xiang.num_bins, \n",
    "                                                XiangWMSystem.mean_of_absolute_values(marked_samples[:, 0]))\n",
    "width1 = 0.7 * (bins1[1] - bins1[0])\n",
    "center1 = (bins1[:-1] + bins1[1:]) / 2\n",
    "\n",
    "fig, axes = plt.subplots(nrows=1, ncols=2, figsize=(14, 7))\n",
    "ax = axes.flat\n",
    "ax[0].bar(center0, hist0, align='center', width=width0)\n",
    "ax[0].set_title(\"Histogram of the original signal (Ch#0)\")\n",
    "ax[0].set_ylim(0,50000)\n",
    "ax[1].bar(center1, hist1, align='center', width=width1)\n",
    "ax[1].set_title(\"Histogram of the marked signal (Ch#0)\")\n",
    "ax[1].set_ylim(0,50000)\n",
    "\n",
    "plt.show()"
   ]
  },
  {
   "cell_type": "markdown",
   "metadata": {},
   "source": [
    "### Extraction procedure"
   ]
  },
  {
   "cell_type": "code",
   "execution_count": 5,
   "metadata": {
    "collapsed": false
   },
   "outputs": [
    {
     "name": "stdout",
     "output_type": "stream",
     "text": [
      "=============================================\n",
      "Detecting watermark\n",
      "---------------------------------------------\n",
      "in channel # 0\n",
      "---------------------------------------------\n",
      "---------------------------------------------\n",
      "Syn:  [0 1 0 0 1 0 0 0]\n",
      "Best match:  [0, 1, 0, 0, 1, 0, 0, 0]\n",
      "---------------------------------------------\n",
      "in channel # 1\n",
      "---------------------------------------------\n",
      "---------------------------------------------\n",
      "Syn:  [0 1 0 1 0 0 1 1]\n",
      "Best match:  [0, 1, 0, 1, 0, 0, 1, 1]\n",
      "---------------------------------------------\n",
      "Original mark:\n",
      " [[0 1 0 0 1 0 0 0 0 1 1 0 0 1 0 0 0 1 0 0 1 1 0 1]\n",
      " [0 1 0 1 0 0 1 1 0 1 1 1 0 1 0 0 0 1 1 0 0 1 1 1]]\n",
      "Recovered mark:\n",
      " [[0 1 0 0 1 0 0 0 0 1 1 0 0 1 0 0 0 1 0 0 1 1 0 1]\n",
      " [0 1 0 1 0 0 1 1 0 1 1 1 0 1 0 0 0 1 1 0 0 1 1 1]]\n",
      "Original and recovered mark match perfectly.\n",
      "BER:  0.0\n"
     ]
    }
   ],
   "source": [
    "# Load marked soundfile\n",
    "samples, samplerate = sf.read(os.path.join(OUTPUT_DIR, FILENAME[:-4]+'_marked_xiang.wav'), dtype=np.int16)\n",
    "\n",
    "# Construct the detector\n",
    "wm_system_xiang = XiangWMSystem.from_file(os.path.join(OUTPUT_DIR, FILENAME[:-4]+'_marked_xiang_iv'))\n",
    "mark_to_extract = np.loadtxt(os.path.join(OUTPUT_DIR, FILENAME[:-4]+'_marked_xiang_mark'), dtype=np.int)\n",
    "syn = mark_to_extract[:,:8]\n",
    "\n",
    "# Extract watermark\n",
    "w_2 = wm_system_xiang.extract_watermark(samples, syn=syn, length=len(mark_to_extract[0]))\n",
    "\n",
    "watermarking_utils.compare_watermarks(w, w_2)"
   ]
  },
  {
   "cell_type": "markdown",
   "metadata": {},
   "source": [
    "## Schmitz' method \n",
    "Rudimentarily adapted for the use with 16-bit audio signals.\n",
    "\n",
    "### Embedding procedure"
   ]
  },
  {
   "cell_type": "code",
   "execution_count": 6,
   "metadata": {
    "collapsed": false
   },
   "outputs": [
    {
     "name": "stdout",
     "output_type": "stream",
     "text": [
      "=============================================\n",
      "Embedding  [[0 1 0 0 1 0 0 0 0 1 1 0 0 1 0 0 0 1 0 0 1 1 0 1]\n",
      " [0 1 0 1 0 0 1 1 0 1 1 1 0 1 0 0 0 1 1 0 0 1 1 1]]  via Schmitz' method\n",
      "---------------------------------------------\n",
      "in channel # 0\n",
      "---------------------------------------------\n",
      "in channel # 1\n",
      "---------------------------------------------\n"
     ]
    }
   ],
   "source": [
    "from core.audio_cwe.schmitz_wm_scheme import SchmitzWMSystem \n",
    "\n",
    "# Form the watermark\n",
    "w = watermarking_utils.construct_watermark(['HdM', 'Stg'])\n",
    "# Load soundfile\n",
    "samples, samplerate = sf.read(os.path.join(INPUT_DIR, FILENAME), dtype=np.int16)\n",
    "\n",
    "# Construct Schmitz' watermarking system\n",
    "wm_sys_schmitz = SchmitzWMSystem(step=9)\n",
    "seed = [1234, 5678] # for each channel one seed\n",
    "\n",
    "# Mark the samples \n",
    "marked_samples, bin_pairs = wm_sys_schmitz.embed_watermark(samples, w, key=seed)\n",
    "\n",
    "# Write result to disk\n",
    "sf.write(os.path.join(OUTPUT_DIR, FILENAME[:-4]+'_marked_schmitz.wav'), marked_samples, samplerate)\n",
    "watermarking_utils.dump_params(OUTPUT_DIR, FILENAME[:-4]+'_schmitz', mark=w, key=seed)"
   ]
  },
  {
   "cell_type": "markdown",
   "metadata": {},
   "source": [
    "### Visualization of the resulting histogram"
   ]
  },
  {
   "cell_type": "code",
   "execution_count": 7,
   "metadata": {
    "collapsed": false
   },
   "outputs": [
    {
     "data": {
      "image/png": "[encoded data removed]",
      "text/plain": [
       "<matplotlib.figure.Figure at 0x10ab0cda0>"
      ]
     },
     "metadata": {},
     "output_type": "display_data"
    }
   ],
   "source": [
    "# Plot the histograms of the original and the marked signal\n",
    "hist0, bins0 = wm_sys_schmitz.generate_standard_histogram(samples)\n",
    "width0 = 0.7 * (bins0[1] - bins0[0])\n",
    "center0 = (bins0[:-1] + bins0[1:]) / 2\n",
    "\n",
    "hist1, bins1 = wm_sys_schmitz.generate_standard_histogram(marked_samples)\n",
    "width1 = 0.7 * (bins1[1] - bins1[0])\n",
    "center1 = (bins1[:-1] + bins1[1:]) / 2\n",
    "\n",
    "fig, axes = plt.subplots(nrows=1, ncols=2, figsize=(14, 7))\n",
    "ax = axes.flat\n",
    "ax[0].bar(center0, hist0, align='center', width=width0)\n",
    "ax[0].set_title(\"Excerpt of Histogram of the original signal\")\n",
    "ax[0].set_xlim(0, np.amax(samples))\n",
    "ax[0].set_ylim(0, 250)\n",
    "\n",
    "ax[1].bar(center1, hist1, align='center', width=width1)\n",
    "ax[1].set_title(\"Excerpt of Histogram of the marked signal\")\n",
    "ax[1].set_xlim(0, np.amax(samples))\n",
    "ax[1].set_ylim(0, 250)\n",
    "\n",
    "plt.show()"
   ]
  },
  {
   "cell_type": "markdown",
   "metadata": {},
   "source": [
    "### Extraction procedure"
   ]
  },
  {
   "cell_type": "code",
   "execution_count": 8,
   "metadata": {
    "collapsed": false
   },
   "outputs": [
    {
     "name": "stdout",
     "output_type": "stream",
     "text": [
      "=============================================\n",
      "Detecting watermark\n",
      "---------------------------------------------\n",
      "in channel # 0\n",
      "---------------------------------------------\n",
      "in channel # 1\n",
      "---------------------------------------------\n",
      "Original mark:\n",
      " [[0 1 0 0 1 0 0 0 0 1 1 0 0 1 0 0 0 1 0 0 1 1 0 1]\n",
      " [0 1 0 1 0 0 1 1 0 1 1 1 0 1 0 0 0 1 1 0 0 1 1 1]]\n",
      "Recovered mark:\n",
      " [[0 1 0 0 1 0 0 0 0 1 1 0 0 1 0 0 0 1 0 0 1 1 0 1]\n",
      " [0 1 0 1 0 0 1 1 0 1 1 1 0 1 0 0 0 1 1 0 0 1 1 1]]\n",
      "Original and recovered mark match perfectly.\n",
      "BER:  0.0\n"
     ]
    }
   ],
   "source": [
    "# Load marked soundfile\n",
    "samples, samplerate = sf.read(os.path.join(OUTPUT_DIR, FILENAME[:-4]+'_marked_schmitz.wav'), dtype=np.int16)\n",
    "\n",
    "# Load the mark\n",
    "mark = np.loadtxt(os.path.join(OUTPUT_DIR,  FILENAME[:-4]+'_schmitz_mark'))\n",
    "\n",
    "# Load the data from the stored keyfile\n",
    "keyfile = os.path.join(OUTPUT_DIR,  FILENAME[:-4]+'_schmitz_key')\n",
    "key = watermarking_utils.read_keyfile(keyfile)\n",
    "\n",
    "# Construct the detector\n",
    "wm_sys_schmitz = SchmitzWMSystem(step=9)\n",
    "                  \n",
    "# Extract watermark\n",
    "w_2 = wm_sys_schmitz.extract_watermark(samples, key=key, length=len(mark[0]))\n",
    "\n",
    "watermarking_utils.compare_watermarks(w, w_2)"
   ]
  },
  {
   "cell_type": "markdown",
   "metadata": {
    "collapsed": true
   },
   "source": [
    "## The combined method\n",
    "### Embedding procedure"
   ]
  },
  {
   "cell_type": "code",
   "execution_count": 9,
   "metadata": {
    "collapsed": false
   },
   "outputs": [
    {
     "name": "stdout",
     "output_type": "stream",
     "text": [
      "=============================================\n",
      "Embedding  [[0 1 0 0 1 0 0 0 0 1 1 0 0 1 0 0 0 1 0 0 1 1 0 1]\n",
      " [0 1 0 1 0 0 1 1 0 1 1 1 0 1 0 0 0 1 1 0 0 1 1 1]]  via combined method\n",
      "---------------------------------------------\n",
      "964.996115412\n",
      "in channel # 0\n",
      "---------------------------------------------\n",
      "886.3049308\n",
      "in channel # 1\n",
      "---------------------------------------------\n"
     ]
    }
   ],
   "source": [
    "from core.audio_cwe.xs_wm_scheme import XsWMSystem \n",
    "\n",
    "# Form the watermark\n",
    "w = watermarking_utils.construct_watermark(['HdM', 'Stg'])\n",
    "\n",
    "# Load soundfile\n",
    "samples, samplerate = sf.read(os.path.join(INPUT_DIR, FILENAME), dtype=np.int16)\n",
    "\n",
    "# Construct the combined watermarking system\n",
    "wm_sys_combi = XsWMSystem(la=2.0, threshold=25, delta=0.0, step=5, num_bins=3*len(w[0]))\n",
    "seed = [1234, 5678]\n",
    "\n",
    "marked_samples, bin_pairs = wm_sys_combi.embed_watermark(samples, w, key=seed)\n",
    "iv = wm_sys_combi.get_params() # returns the params as dict\n",
    "\n",
    "# Write result to disk\n",
    "sf.write(os.path.join(OUTPUT_DIR, FILENAME[:-4]+'_marked_xs.wav'), marked_samples, samplerate)\n",
    "watermarking_utils.dump_params(OUTPUT_DIR, FILENAME[:-4]+'_xs', iv=iv, mark=w, key=bin_pairs)"
   ]
  },
  {
   "cell_type": "code",
   "execution_count": 10,
   "metadata": {
    "collapsed": false
   },
   "outputs": [
    {
     "data": {
      "image/png": "[encoded data removed]",
      "text/plain": [
       "<matplotlib.figure.Figure at 0x1358b9438>"
      ]
     },
     "metadata": {},
     "output_type": "display_data"
    }
   ],
   "source": [
    "# Plot the histograms of the original and the marked signal\n",
    "hist0, bins0 = XsWMSystem.generate_histogram(samples[:, 0], wm_sys_combi.la, wm_sys_combi.num_bins, \n",
    "                                                XsWMSystem.mean_of_absolute_values(samples[:,0]))\n",
    "width0 = 0.7 * (bins0[1] - bins0[0])\n",
    "center0 = (bins0[:-1] + bins0[1:]) / 2\n",
    "\n",
    "hist1, bins1 = XsWMSystem.generate_histogram(marked_samples[:, 0], wm_sys_combi.la, wm_sys_combi.num_bins, \n",
    "                                                wm_sys_combi.orig_mean[0])\n",
    "width1 = 0.7 * (bins1[1] - bins1[0])\n",
    "center1 = (bins1[:-1] + bins1[1:]) / 2\n",
    "\n",
    "fig, axes = plt.subplots(nrows=1, ncols=2, figsize=(14, 7))\n",
    "ax = axes.flat\n",
    "ax[0].bar(center0, hist0, align='center', width=width0)\n",
    "ax[0].set_title(\"Histogram of the original signal (Ch#0)\")\n",
    "ax[0].set_ylim(0,50000)\n",
    "ax[1].bar(center1, hist1, align='center', width=width1)\n",
    "ax[1].set_title(\"Histogram of the marked signal (Ch#0)\")\n",
    "ax[1].set_ylim(0,50000)\n",
    "\n",
    "plt.show()"
   ]
  },
  {
   "cell_type": "markdown",
   "metadata": {},
   "source": [
    "### Extraction procedure"
   ]
  },
  {
   "cell_type": "code",
   "execution_count": 11,
   "metadata": {
    "collapsed": false
   },
   "outputs": [
    {
     "name": "stdout",
     "output_type": "stream",
     "text": [
      "=============================================\n",
      "Detecting watermark\n",
      "---------------------------------------------\n",
      "in channel # 0\n",
      "---------------------------------------------\n",
      "in channel # 1\n",
      "---------------------------------------------\n",
      "Original mark:\n",
      " [[0 1 0 0 1 0 0 0 0 1 1 0 0 1 0 0 0 1 0 0 1 1 0 1]\n",
      " [0 1 0 1 0 0 1 1 0 1 1 1 0 1 0 0 0 1 1 0 0 1 1 1]]\n",
      "Recovered mark:\n",
      " [[0 1 0 0 1 0 0 0 0 1 1 0 0 1 0 0 0 1 0 0 1 1 0 1]\n",
      " [0 1 0 1 0 0 1 1 0 1 1 1 0 1 0 0 0 1 1 0 0 1 1 1]]\n",
      "Original and recovered mark match perfectly.\n",
      "BER:  0.0\n"
     ]
    }
   ],
   "source": [
    "# Load marked soundfile\n",
    "samples, samplerate = sf.read(os.path.join(OUTPUT_DIR, FILENAME[:-4]+'_marked_xs.wav'), dtype=np.int16)\n",
    "\n",
    "# Load the mark\n",
    "mark = np.loadtxt(os.path.join(OUTPUT_DIR,  FILENAME[:-4]+'_xs_mark'))\n",
    "syn = mark[:, :8]\n",
    "# Load the data from the stored keyfile\n",
    "keyfile = os.path.join(OUTPUT_DIR,  FILENAME[:-4]+'_xs_key_('+ str(len(mark))+', '+str(len(mark[0]))+ ', '+str(2)+')')\n",
    "key = watermarking_utils.read_keyfile(keyfile)\n",
    "\n",
    "# Construct the detector\n",
    "wm_sys_combi = XsWMSystem.from_file(os.path.join(OUTPUT_DIR,  FILENAME[:-4]+'_xs_iv'))\n",
    "\n",
    "w_2 = wm_sys_combi.extract_watermark(samples, key=key, syn=syn)\n",
    "\n",
    "watermarking_utils.compare_watermarks(w, w_2)"
   ]
  }
 ],
 "metadata": {
  "kernelspec": {
   "display_name": "Python 3",
   "language": "python",
   "name": "python3"
  },
  "language_info": {
   "codemirror_mode": {
    "name": "ipython",
    "version": 3
   },
   "file_extension": ".py",
   "mimetype": "text/x-python",
   "name": "python",
   "nbconvert_exporter": "python",
   "pygments_lexer": "ipython3",
   "version": "3.5.1"
  }
 },
 "nbformat": 4,
 "nbformat_minor": 0
}

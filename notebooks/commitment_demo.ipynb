{
 "cells": [
  {
   "cell_type": "markdown",
   "metadata": {},
   "source": [
    "# Illustrating a commitment scheme based on symmetric encryption\n",
    "Implementation of the intuitive approach described by Schneier. \n",
    "\n",
    "Cf. Schneier, B. 2007. Applied cryptography: protocols, algorithms, and source code in C. john wiley & sons, S.86f."
   ]
  },
  {
   "cell_type": "code",
   "execution_count": 1,
   "metadata": {
    "collapsed": true
   },
   "outputs": [],
   "source": [
    "import numpy as np\n",
    "from numpy.random import RandomState\n",
    "from Crypto.Cipher import AES\n",
    "from Crypto import Random"
   ]
  },
  {
   "cell_type": "code",
   "execution_count": 34,
   "metadata": {
    "collapsed": true
   },
   "outputs": [],
   "source": [
    "class Alice(object):\n",
    "    \"\"\"\n",
    "    Implements the role of Alice, who commits to a bit with the means of symmetric encryption \n",
    "    and reveals her choice some time later. \n",
    "    \"\"\"\n",
    "    def __init__(self):\n",
    "        self._cipher_params = None\n",
    "    \n",
    "    def commit(self, nonce):\n",
    "        chosen_value = np.random.randint(0xFFFF)\n",
    "        print('Alice choice: ', chosen_value)\n",
    "        n = 24  # key length\n",
    "        n_iv = 16  # length of IV\n",
    "        key = Random.get_random_bytes(n)\n",
    "        iv = Random.get_random_bytes(n_iv)\n",
    "        obj = AES.new(key, AES.MODE_CBC, iv)\n",
    "\n",
    "        message = str(chosen_value) + str(nonce)\n",
    "        len_padding = 0\n",
    "\n",
    "        while len(message) % 16 != 0:\n",
    "            message += '.'\n",
    "            len_padding += 1\n",
    "\n",
    "        cipher_text = obj.encrypt(message)\n",
    "        self._cipher_params = [iv, key, len_padding]\n",
    "\n",
    "        return cipher_text\n",
    "    \n",
    "    def reveal(self):\n",
    "        return self._cipher_params"
   ]
  },
  {
   "cell_type": "code",
   "execution_count": 40,
   "metadata": {
    "collapsed": false
   },
   "outputs": [
    {
     "name": "stdout",
     "output_type": "stream",
     "text": [
      "Bob's choice:  21438\n",
      "Alice choice:  29250\n",
      "----------------------------------\n",
      "Commitment is valid\n",
      "Alice choice was:  3572\n"
     ]
    }
   ],
   "source": [
    "\"\"\"This simulates Bob\"\"\"\n",
    "def decrypt(cipher_text, iv, key, len_padding):\n",
    "    obj = AES.new(key, AES.MODE_CBC, iv)\n",
    "    recovered_plaintext = obj.decrypt(cipher_text)[:-len_padding]\n",
    "    return recovered_plaintext\n",
    "    \n",
    "# Hello Alice!\n",
    "alice = Alice()\n",
    "\n",
    "# Bob chooses a random number\n",
    "rand = np.random.randint(0xFFFF)\n",
    "print('Bob\\'s choice: ', rand)\n",
    "\n",
    "# Alice, commit to a bit!\n",
    "commitment = alice.commit(rand)\n",
    "\n",
    "# Alice, please reveal your choice\n",
    "cipher_params = alice.reveal()\n",
    "plaintext = decrypt(commitment, *cipher_params)\n",
    "\n",
    "# Bob checks validity of commitment by evaluating the existence of his random number  \n",
    "if rand == int(plaintext[-len(str(rand)):]):\n",
    "    print('----------------------------------')\n",
    "    print('Commitment is valid')\n",
    "    print('Alice choice was: ', int(decrypted_commitment[:len(rand_str)]))"
   ]
  },
  {
   "cell_type": "code",
   "execution_count": null,
   "metadata": {
    "collapsed": true
   },
   "outputs": [],
   "source": []
  }
 ],
 "metadata": {
  "kernelspec": {
   "display_name": "Python 3",
   "language": "python",
   "name": "python3"
  },
  "language_info": {
   "codemirror_mode": {
    "name": "ipython",
    "version": 3
   },
   "file_extension": ".py",
   "mimetype": "text/x-python",
   "name": "python",
   "nbconvert_exporter": "python",
   "pygments_lexer": "ipython3",
   "version": "3.5.1"
  }
 },
 "nbformat": 4,
 "nbformat_minor": 0
}

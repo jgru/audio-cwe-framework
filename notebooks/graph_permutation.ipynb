{
 "cells": [
  {
   "cell_type": "markdown",
   "metadata": {},
   "source": [
    "# Permutation of graphs\n",
    "\n",
    "The following notebook demonstrates the usage of permutation_utils.py to permute bitstrings, graphs and histograms. Special emphasis is put on the illustration of the connection of $\\tau = \\sigma \\circ \\rho$. "
   ]
  },
  {
   "cell_type": "code",
   "execution_count": 1,
   "metadata": {
    "collapsed": false
   },
   "outputs": [
    {
     "name": "stdout",
     "output_type": "stream",
     "text": [
      "/Users/gru/Documents/skripte/CSM/scripts/ws_15_16/38777 Masterthesis/src/audio_cwe_framework\n"
     ]
    }
   ],
   "source": [
    "%cd ../\n",
    "%matplotlib inline\n",
    "import numpy as np\n",
    "import scipy.sparse as sps\n",
    "\n",
    "from core.asym_verification_protocol import permutation_utils\n",
    "from core.audio_cwe import watermarking_utils"
   ]
  },
  {
   "cell_type": "markdown",
   "metadata": {},
   "source": [
    "## Permute a graph\n",
    "The permutation of a graph is achieved by shuffling its nodes/vertices. To achieve a structurally equal graph the edges have to be set accordingly. If and only if two nodes of the original graph $u, v \\in V(G_1)$ are adjacent, then $\\varphi(u), \\varphi(v)$ have to share an edge in $G_2$, too."
   ]
  },
  {
   "cell_type": "code",
   "execution_count": 2,
   "metadata": {
    "collapsed": false
   },
   "outputs": [],
   "source": [
    "# %load -s permute_graph ./core/asym_verification_protocol/permutation_utils.py\n",
    "def permute_graph(graph, permutation):\n",
    "    \"\"\"Shuffles the nodes of a given graph according to a given permutation\n",
    "    and forms the resulting adjacency matrix.\n",
    "\n",
    "    :param graph: a sparse adjacency matrix (in csr format), which represents\n",
    "    the graph\n",
    "    :param permutation: the permutation to apply\n",
    "    :return: shuffled_graph: the resulting graph's adjacency matrix in\n",
    "    (csr format)\n",
    "    \"\"\"\n",
    "    nnz_i, nnz_j = graph.nonzero()\n",
    "    graph_adjacency = graph.toarray()\n",
    "    shuffled_adjacency = np.zeros(\n",
    "        (graph_adjacency.shape[0], graph_adjacency.shape[1]))\n",
    "\n",
    "    for x in range(len(nnz_i)):\n",
    "        new_i = permutation[nnz_i[x]]\n",
    "        new_j = permutation[nnz_j[x]]\n",
    "\n",
    "        shuffled_adjacency[new_i][new_j] = graph_adjacency[nnz_i[x]][nnz_j[x]]\n",
    "\n",
    "    shuffled_graph = sps.csr_matrix(shuffled_adjacency)\n",
    "    return shuffled_graph\n"
   ]
  },
  {
   "cell_type": "code",
   "execution_count": 3,
   "metadata": {
    "collapsed": false
   },
   "outputs": [
    {
     "name": "stdout",
     "output_type": "stream",
     "text": [
      "Original graph:\n",
      "  (0, 0)\t0.47863980862\n",
      "  (1, 1)\t0.473807696921\n",
      "  (3, 0)\t0.208383566855\n",
      "  (3, 2)\t0.445743586384\n",
      "  (3, 3)\t0.988946822035\n",
      "  (3, 4)\t0.0831054439091\n",
      "  (4, 2)\t0.639887875999\n",
      "Applied permutation:\n",
      " [3 4 1 0 2]\n",
      "Shuffled graph:\n",
      "  (0, 0)\t0.988946822035\n",
      "  (0, 1)\t0.445743586384\n",
      "  (0, 2)\t0.0831054439091\n",
      "  (0, 3)\t0.208383566855\n",
      "  (2, 1)\t0.639887875999\n",
      "  (3, 3)\t0.47863980862\n",
      "  (4, 4)\t0.473807696921\n"
     ]
    }
   ],
   "source": [
    "# Generate random graph with 5 nodes\n",
    "size = 5\n",
    "graph = sps.rand(size, size, density=0.3, format='csr')\n",
    "print('Original graph:')\n",
    "print(graph)\n",
    "\n",
    "p1 = permutation_utils.generate_random_permutation(size)\n",
    "print('Applied permutation:\\n', p1)\n",
    "graph_shuffled = permute_graph(graph, p1) \n",
    "print('Shuffled graph:')\n",
    "print(graph_shuffled)"
   ]
  },
  {
   "cell_type": "markdown",
   "metadata": {},
   "source": [
    "## Inversion of a permutation"
   ]
  },
  {
   "cell_type": "code",
   "execution_count": 4,
   "metadata": {
    "collapsed": true
   },
   "outputs": [],
   "source": [
    "# %load -s invert ./core/asym_verification_protocol/permutation_utils.py\n",
    "def invert(permutation):\n",
    "    \"\"\"Inverts a given permutation\n",
    "\n",
    "    :param permutation: the permutation to be inverted\n",
    "    :return: inv_perm: the inverted permutation\n",
    "    \"\"\"\n",
    "    inv_perm = np.zeros(len(permutation), dtype=permutation[0].dtype)\n",
    "\n",
    "    for i, v in enumerate(permutation):\n",
    "        inv_perm[v] = i\n",
    "    return inv_perm\n"
   ]
  },
  {
   "cell_type": "code",
   "execution_count": 5,
   "metadata": {
    "collapsed": false
   },
   "outputs": [
    {
     "name": "stdout",
     "output_type": "stream",
     "text": [
      "Tau:\n",
      " [69 91 16 58 76 98 23 38 52 32  2 65 87 12 48 83  8  6 10 85 30 50 36 56 14\n",
      " 89 67 74 96 21  0 63 46 81  4 28 34 54 72 94 19 61 44 79 26 70 92 17 59 42\n",
      " 77 99 24 40 39 41 25 78 43 60 18 93 71 53 33 27  3 80 45 62 20 95 73 66 88\n",
      " 13 55 35 49 29 84  9  5  7 82 47 11 86 64  1 31 51 37 22 97 75 57 15 90 68]\n",
      "Inverse Tau:\n",
      " [30 89 10 66 34 82 17 83 16 81 18 86 13 75 24 97  2 47 60 40 70 29 93  6 52\n",
      " 56 44 65 35 79 20 90  9 64 36 77 22 92  7 54 53 55 49 58 42 68 32 85 14 78\n",
      " 21 91  8 63 37 76 23 96  3 48 59 41 69 31 88 11 73 26 99  0 45 62 38 72 27\n",
      " 95  4 50 57 43 67 33 84 15 80 19 87 12 74 25 98  1 46 61 39 71 28 94  5 51]\n",
      "Original graph == shuffled and then inverted graph\n"
     ]
    }
   ],
   "source": [
    "# Generate random graph with 100 nodes\n",
    "size = 100\n",
    "graph = sps.rand(size, size, density=0.2, format='csr')\n",
    "\n",
    "# Generate a permutation by the use of a logistic map with the following params\n",
    "x_n = 0.7\n",
    "mu = 3.7\n",
    "i = 100\n",
    "\n",
    "tau = permutation_utils.generate_permutation(size, mu, x_n, i)\n",
    "print(\"Tau:\\n\",tau)\n",
    "\n",
    "# Invert the permutation\n",
    "inv_tau = invert(tau)\n",
    "print(\"Inverse Tau:\\n\", inv_tau)\n",
    "\n",
    "# Apply permutation\n",
    "shuffled_graph = permutation_utils.permute_graph(graph, tau)\n",
    "\n",
    "# Apply inverse permutation\n",
    "inv_shuffled_graph = permutation_utils.permute_graph(shuffled_graph, inv_tau)\n",
    "\n",
    "# Compare original graph and the resulting one\n",
    "if np.array_equal(graph.toarray(), inv_shuffled_graph.toarray()):\n",
    "    print(\"Original graph == shuffled and then inverted graph\")"
   ]
  },
  {
   "cell_type": "markdown",
   "metadata": {},
   "source": [
    "## Permute graph $g$\n",
    "The following cell illustrates the coherence of $\\tau$, $\\rho$ and $\\sigma$ and shows, that $\\rho(g) = \\sigma^{-1}(\\tau(g))$ holds."
   ]
  },
  {
   "cell_type": "code",
   "execution_count": 6,
   "metadata": {
    "collapsed": false
   },
   "outputs": [
    {
     "name": "stdout",
     "output_type": "stream",
     "text": [
      "Tau:\n",
      " [3 1 0 4 2]\n",
      "Rho:\n",
      " [4 0 2 1 3]\n",
      "Sigma:\n",
      " [1 4 0 2 3]\n",
      "rho(g) == sigma^{-1}(tau(g))\n"
     ]
    }
   ],
   "source": [
    "# Generate random graph with 5 nodes (for testability by hand)\n",
    "size = 5\n",
    "graph = sps.rand(size, size, density=0.2, format='csr')\n",
    "\n",
    "# Generate a arbitrary permutation by the use of a logistic map with the following params\n",
    "x_n = 0.4332\n",
    "mu = 3.6987\n",
    "i = 500\n",
    "\n",
    "tau = permutation_utils.generate_permutation(size, mu, x_n, i)\n",
    "print(\"Tau:\\n\", tau)\n",
    "\n",
    "# Generate another arbitrary permutation\n",
    "x_n = 0.123\n",
    "mu = 3.64\n",
    "i = 500\n",
    "\n",
    "rho = permutation_utils.generate_permutation(size, mu, x_n, i)\n",
    "print(\"Rho:\\n\", rho)\n",
    "\n",
    "# Construct a permutation \\sigma, so that \\sigma \\circ \\rho==\\tau\n",
    "sigma = permutation_utils.partial_permutation(rho, tau)\n",
    "print(\"Sigma:\\n\", sigma)\n",
    "# Invert \\sigma\n",
    "inv_sigma = permutation_utils.invert(sigma)\n",
    "\n",
    "# Permute the graph \n",
    "tau_graph = permutation_utils.permute_graph(graph, tau)\n",
    "rho_graph= permutation_utils.permute_graph(graph, rho)\n",
    "inv_sigma_tau_graph = permutation_utils.permute_graph(tau_graph, inv_sigma)\n",
    "\n",
    "# Compare the results\n",
    "if np.array_equal(rho_graph.toarray(), inv_sigma_tau_graph.toarray()):\n",
    "    print(\"rho(g) == sigma^{-1}(tau(g))\")"
   ]
  },
  {
   "cell_type": "markdown",
   "metadata": {},
   "source": [
    "## Permute a bitstring $m$\n",
    "The following piece of code shows, that $\\tau(m) == \\sigma(\\rho(m))$ is true."
   ]
  },
  {
   "cell_type": "code",
   "execution_count": 7,
   "metadata": {
    "collapsed": false
   },
   "outputs": [
    {
     "name": "stdout",
     "output_type": "stream",
     "text": [
      "Tau:\n",
      " [23 20 10 13  5  0 16 18 21  8 11  3 14  6  1  2  7 17 15  4 12  9 19 22]\n",
      "Rho:\n",
      " [17 11  7  5 15  9  3 13 23  1 21 19 18 20  0 22 12  2  8 14  4  6 10 16]\n",
      "Sigma:\n",
      " [ 1  8 17 16 12 13  9 10 15  0 19 20  7 18  4  5 22 23 14  3  6 11  2 21]\n",
      "\\tau(m) == \\sigma(\\rho(m))\n"
     ]
    }
   ],
   "source": [
    "mark = watermarking_utils.construct_watermark('HdM')\n",
    "\n",
    "# Generate \\tau\n",
    "tau = permutation_utils.generate_random_permutation(len(mark))\n",
    "print(\"Tau:\\n\", tau)\n",
    "\n",
    "# Construct another permutation, this time pseudo-randomly\n",
    "rho = permutation_utils.generate_random_permutation(len(mark))\n",
    "print(\"Rho:\\n\", rho)\n",
    "\n",
    "# Construct sigma, so that \\sigma \\circ \\rho = \\tau\n",
    "sigma = permutation_utils.partial_permutation(rho, tau)\n",
    "print(\"Sigma:\\n\", sigma)\n",
    "\n",
    "mark_a = permutation_utils.permute_list(mark, tau)\n",
    "mark_b = permutation_utils.permute_list(mark, rho)\n",
    "mark_c = permutation_utils.permute_list(mark_b, sigma)\n",
    "\n",
    "if np.array_equal(mark_a, mark_c):\n",
    "    print('\\\\tau(m) == \\\\sigma(\\\\rho(m))')"
   ]
  }
 ],
 "metadata": {
  "kernelspec": {
   "display_name": "Python 3",
   "language": "python",
   "name": "python3"
  },
  "language_info": {
   "codemirror_mode": {
    "name": "ipython",
    "version": 3
   },
   "file_extension": ".py",
   "mimetype": "text/x-python",
   "name": "python",
   "nbconvert_exporter": "python",
   "pygments_lexer": "ipython3",
   "version": "3.5.1"
  }
 },
 "nbformat": 4,
 "nbformat_minor": 0
}

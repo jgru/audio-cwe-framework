{
 "cells": [
  {
   "cell_type": "markdown",
   "metadata": {},
   "source": [
    "# Introduction to permutations "
   ]
  },
  {
   "cell_type": "code",
   "execution_count": 1,
   "metadata": {
    "collapsed": false
   },
   "outputs": [
    {
     "name": "stdout",
     "output_type": "stream",
     "text": [
      "/Users/gru/Documents/skripte/CSM/scripts/ws_15_16/38777 Masterthesis/src/audio_cwe_framework\n"
     ]
    }
   ],
   "source": [
    "%cd ../\n",
    "import numpy as np\n",
    "from core.asym_verification_protocol import permutation_utils"
   ]
  },
  {
   "cell_type": "markdown",
   "metadata": {},
   "source": [
    "## Construct a permutation by sorting a list of random numbers\n",
    "A step-by-step illustration"
   ]
  },
  {
   "cell_type": "code",
   "execution_count": 2,
   "metadata": {
    "collapsed": false
   },
   "outputs": [
    {
     "name": "stdout",
     "output_type": "stream",
     "text": [
      "Original array:\n",
      " [[ 0.8823  0.    ]\n",
      " [ 0.453   1.    ]\n",
      " [ 0.9823  2.    ]\n",
      " [ 0.533   3.    ]]\n",
      "Sorted array:\n",
      " [[ 0.453   1.    ]\n",
      " [ 0.533   3.    ]\n",
      " [ 0.8823  0.    ]\n",
      " [ 0.9823  2.    ]]\n",
      "----------------------------------------------------------------\n",
      "The resulting permutation:\n",
      " [0 1 2 3]\n",
      " [1 3 0 2]\n"
     ]
    }
   ],
   "source": [
    "# Form a 2d-array, where the first element is 'random' value and the second one denotes the initial index\n",
    "a = np.array([[0.8823, 0],[0.453, 1], [0.9823, 2],[0.533, 3]])\n",
    "print('Original array:\\n', a)\n",
    "\n",
    "# Slice the array, [:,0] removes the indices\n",
    "# and use argsort(), which returns the indices, that would sort the list\n",
    "sort_ids = (a[:,0].argsort())\n",
    "\n",
    "# Sort the original array by using the received indices\n",
    "b = a[sort_ids]\n",
    "print('Sorted array:\\n', b)\n",
    "\n",
    "# The sorting process constitutes a permutation\n",
    "print(\"----------------------------------------------------------------\")\n",
    "\n",
    "print('The resulting permutation:\\n', np.arange(0,len(sort_ids),1))\n",
    "print('',sort_ids) # having a 1d array of random numbers a.argsort() gives the permutation\n"
   ]
  },
  {
   "cell_type": "markdown",
   "metadata": {},
   "source": [
    "## Generate a permutation by using the logistic map\n",
    "The code above shows how simple it is, to derive a permutation from an array of random numbers. One way to generate those random numbers is chaos, which has a lot of desirable attributes and enables a compact description of the permutation by its key parameters. One chaotic equation is the so called logistic map. \n",
    "$$\n",
    "x_{k+1} = \\mu x_k(1-x_k)\n",
    "$$\n",
    "\n",
    "\n",
    "In order get complex chaotic behaviour choose $3.569945\\dots<mu < 4$"
   ]
  },
  {
   "cell_type": "code",
   "execution_count": 3,
   "metadata": {
    "collapsed": false
   },
   "outputs": [],
   "source": [
    "# %load -s log_map ./core/asym_verification_protocol/permutation_utils.py\n",
    "def log_map(x, mu):\n",
    "    \"\"\"Logistic map equation. Takes x_k and mu and calculates x_{k+1}\n",
    "\n",
    "    :param x: the current value\n",
    "    :param mu: 0<\\mu<4; to get complex dynamic behaviour choose 3.569945..<mu<4\n",
    "    :return: x_{k+1}\n",
    "    \"\"\"\n",
    "    return mu * x * (1 - x)\n"
   ]
  },
  {
   "cell_type": "code",
   "execution_count": 4,
   "metadata": {
    "collapsed": false,
    "scrolled": true
   },
   "outputs": [
    {
     "name": "stdout",
     "output_type": "stream",
     "text": [
      "Resulting pseudo-random numbers:\n",
      " [0.5682177680599102, 0.9077814436474199, 0.30974288860225674, 0.7910682567815709, 0.6115332986083089]\n"
     ]
    }
   ],
   "source": [
    "# Generate random numbers with the use of the logistic map\n",
    "x_i = 0.7  # start value\n",
    "m = 100  # forerunning iterations\n",
    "mu = 3.7 \n",
    "\n",
    "size = 5 \n",
    "n = m + size\n",
    "randoms = []\n",
    "i = 0\n",
    "while i < n:\n",
    "    x_i = log_map(x_i, mu)\n",
    "    if i >= m:\n",
    "        randoms.append(x_i)\n",
    "    i += 1\n",
    "\n",
    "print('Resulting pseudo-random numbers:\\n', randoms)"
   ]
  },
  {
   "cell_type": "markdown",
   "metadata": {},
   "source": [
    "## Compose two permutations"
   ]
  },
  {
   "cell_type": "code",
   "execution_count": 5,
   "metadata": {
    "collapsed": true
   },
   "outputs": [],
   "source": [
    "# %load -s compose_permutations ./core/asym_verification_protocol/permutation_utils.py\n",
    "def compose_permutations(p2, p1):\n",
    "    \"\"\"Calculates p2 \\circ p1 and returns the resulting permutation.\n",
    "\n",
    "    :param p1: a permutation\n",
    "    :param p2: another permutation\n",
    "    :return: p3: the resulting permutation p2 \\circ p1\n",
    "    \"\"\"\n",
    "    p3 = np.zeros_like(p1)\n",
    "\n",
    "    for i, v in enumerate(p1):\n",
    "        p3[i] = p2[v]\n",
    "\n",
    "    return p3\n"
   ]
  },
  {
   "cell_type": "code",
   "execution_count": 6,
   "metadata": {
    "collapsed": false
   },
   "outputs": [
    {
     "name": "stdout",
     "output_type": "stream",
     "text": [
      "p1:\n",
      " [3 1 0 4 2]\n",
      "p2:\n",
      " [4 0 2 1 3]\n",
      "-------------------------\n",
      "p2 \\circ p1:\n",
      " [1 0 4 3 2]\n"
     ]
    }
   ],
   "source": [
    "p1 = np.array([3, 1, 0, 4, 2])\n",
    "print('p1:\\n', p1)\n",
    "p2 = np.array([4, 0, 2, 1, 3])\n",
    "print('p2:\\n', p2)\n",
    "\n",
    "p3 = compose_permutations(p2, p1)\n",
    "print('-------------------------')\n",
    "print('p2 \\circ p1:\\n', p3)\n",
    "\n"
   ]
  },
  {
   "cell_type": "markdown",
   "metadata": {},
   "source": [
    "## Generate partial permutation \n",
    "Bring both concepts together:\n",
    "Form two arbitrary permutations $\\tau$ and $\\rho$ and find a partial permutation $\\sigma$, so that $\\tau = \\sigma \\circ \\rho$ is valid. This is accomplished by calculating $sigma = \\tau \\circ \\rho^{-1}$."
   ]
  },
  {
   "cell_type": "code",
   "execution_count": 7,
   "metadata": {
    "collapsed": false
   },
   "outputs": [
    {
     "name": "stdout",
     "output_type": "stream",
     "text": [
      "----------------------------------------------------------------\n",
      "Tau:\n",
      " [2 0 4 3 5 1]\n",
      "Rho:\n",
      " [3 1 5 4 0 2]\n",
      "Sigma:\n",
      " [5 0 1 2 3 4]\n",
      "----------------------------------------------------------------\n"
     ]
    }
   ],
   "source": [
    "# Generate a permutation \\tau by the use of a logistic map with the following params\n",
    "size = 6\n",
    "x_i = 0.7\n",
    "mu = 3.7\n",
    "i = 100\n",
    "\n",
    "randoms = []\n",
    "while i>0:\n",
    "    x_i = log_map(x_i, mu)\n",
    "    if i<=size:\n",
    "        randoms.append(x_i)\n",
    "    i -= 1\n",
    "\n",
    "tau = np.array(randoms).argsort()\n",
    "print(\"----------------------------------------------------------------\")\n",
    "print(\"Tau:\\n\",tau)\n",
    "\n",
    "# Generate a second permutation \\rho by the use of a logistic map with the following params\n",
    "mu = 3.59\n",
    "x_i = 0.3\n",
    "i = 100\n",
    "\n",
    "randoms = []\n",
    "while i>0:\n",
    "    x_i = log_map(x_i, mu)\n",
    "    if i<=size:\n",
    "        randoms.append(x_i)\n",
    "    i -= 1\n",
    "\n",
    "rho = np.array(randoms).argsort()\n",
    "print(\"Rho:\\n\", rho)\n",
    "\n",
    "# Now find \\sigma\n",
    "\n",
    "# Invert rho\n",
    "inv_rho = np.zeros(len(rho), dtype=rho[0].dtype)\n",
    "for i, v in enumerate(rho):\n",
    "    inv_rho[v] = i\n",
    "\n",
    "# Calculate \\tau \\circ \\rho^{-1} \n",
    "sigma = np.zeros(size, dtype=np.int)\n",
    "for i, v in enumerate(inv_rho):\n",
    "        sigma[i] = tau[v]\n",
    "\n",
    "print(\"Sigma:\\n\", sigma)\n",
    "print(\"----------------------------------------------------------------\")\n",
    "\n"
   ]
  },
  {
   "cell_type": "markdown",
   "metadata": {},
   "source": [
    "Let's check $\\tau = \\sigma \\circ \\rho$"
   ]
  },
  {
   "cell_type": "code",
   "execution_count": 8,
   "metadata": {
    "collapsed": false
   },
   "outputs": [
    {
     "name": "stdout",
     "output_type": "stream",
     "text": [
      "Result:\n",
      " [2 0 4 3 5 1]\n",
      "\\tau == \\sigma \\circ \\rho\n"
     ]
    }
   ],
   "source": [
    "p = compose_permutations(sigma, rho)\n",
    "print('Result:\\n', p)\n",
    "if np.array_equal(p, tau):\n",
    "    print('\\\\tau == \\\\sigma \\\\circ \\\\rho')"
   ]
  },
  {
   "cell_type": "markdown",
   "metadata": {},
   "source": [
    "Now apply the permutations to a list of nodes."
   ]
  },
  {
   "cell_type": "code",
   "execution_count": 9,
   "metadata": {
    "collapsed": false
   },
   "outputs": [
    {
     "name": "stdout",
     "output_type": "stream",
     "text": [
      "Nodes:\n",
      " [0 1 2 3 4 5]\n",
      "\\rho(nodes):\n",
      " [4 1 5 0 3 2]\n",
      "\\sigma\\rho(nodes)):\n",
      " [1 5 0 3 2 4]\n",
      "----------------------------------------------------------------\n",
      "Nodes:\n",
      " [0 1 2 3 4 5]\n",
      "\\tau(nodes):\n",
      " [1 5 0 3 2 4]\n",
      "----------------------------------------------------------------\n",
      "\\tau(n) == \\sigma(\\rho(n))\n"
     ]
    }
   ],
   "source": [
    "# Generate a vector of nodes to permute\n",
    "nodes = np.zeros(size, dtype=np.uint32)\n",
    "for i in range(len(nodes)):\n",
    "    nodes[i] = i\n",
    "\n",
    "print(\"Nodes:\\n\", nodes)\n",
    "\n",
    "# Apply permutation rho\n",
    "shuffled_nodes = np.zeros(size, dtype=np.int)\n",
    "\n",
    "for i, v in enumerate(rho):\n",
    "    shuffled_nodes[v] = nodes[i]\n",
    "\n",
    "print(\"\\\\rho(nodes):\\n\", shuffled_nodes)\n",
    "\n",
    "# Apply permutation sigma\n",
    "shuffled_nodes_b = np.zeros(size, dtype=np.int)\n",
    "\n",
    "for i,v in enumerate(sigma):\n",
    "    shuffled_nodes_b[v] = shuffled_nodes[i]\n",
    "\n",
    "print(\"\\\\sigma\\\\rho(nodes)):\\n\", shuffled_nodes_b)\n",
    "\n",
    "print(\"----------------------------------------------------------------\")\n",
    "\n",
    "# Apply permutation tau\n",
    "shuffled_nodes_c = np.zeros(size, dtype=np.int)\n",
    "\n",
    "for i,v in enumerate(tau):\n",
    "    shuffled_nodes_c[v] = nodes[i]\n",
    "\n",
    "print(\"Nodes:\\n\", nodes)\n",
    "print(\"\\\\tau(nodes):\\n\", shuffled_nodes_c)\n",
    "\n",
    "print(\"----------------------------------------------------------------\")\n",
    "if np.array_equal(shuffled_nodes_b, shuffled_nodes_c):\n",
    "    print('\\\\tau(n) == \\\\sigma(\\\\rho(n))')\n",
    "\n"
   ]
  }
 ],
 "metadata": {
  "kernelspec": {
   "display_name": "Python 3",
   "language": "python",
   "name": "python3"
  },
  "language_info": {
   "codemirror_mode": {
    "name": "ipython",
    "version": 3
   },
   "file_extension": ".py",
   "mimetype": "text/x-python",
   "name": "python",
   "nbconvert_exporter": "python",
   "pygments_lexer": "ipython3",
   "version": "3.5.1"
  }
 },
 "nbformat": 4,
 "nbformat_minor": 0
}

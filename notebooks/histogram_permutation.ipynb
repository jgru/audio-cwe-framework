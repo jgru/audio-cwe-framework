{
 "cells": [
  {
   "cell_type": "markdown",
   "metadata": {},
   "source": [
    "# Histogram Permutation\n",
    "The histogram permutation $P_h$ is a $L$ to $L$ permutation, where $L$ denotes the number of histogram bins."
   ]
  },
  {
   "cell_type": "code",
   "execution_count": 1,
   "metadata": {
    "collapsed": false
   },
   "outputs": [
    {
     "name": "stdout",
     "output_type": "stream",
     "text": [
      "/Users/gru/Documents/skripte/CSM/scripts/ws_15_16/38777 Masterthesis/src/audio_cwe_framework\n"
     ]
    }
   ],
   "source": [
    "%matplotlib inline\n",
    "% cd ../\n",
    "import soundfile as sf\n",
    "import numpy as np\n",
    "import matplotlib.pyplot as plt\n",
    "\n",
    "from core.asym_verification_protocol import permutation_utils\n",
    "from core.audio_cwe.xs_wm_scheme import XsWMSystem\n"
   ]
  },
  {
   "cell_type": "code",
   "execution_count": 2,
   "metadata": {
    "collapsed": true
   },
   "outputs": [],
   "source": [
    "# %load -s permute_histogram ./core/asym_verification_protocol/permutation_utils.py\n",
    "def permute_histogram(samples, bins, permutation):\n",
    "    \"\"\"Permutes the histogram bins according to the given permutation.\n",
    "\n",
    "    :param samples: the samples to be modified\n",
    "    :param bins: a list, that defines the bin edges\n",
    "    :param permutation: the permutation to apply\n",
    "    :return: shuffled_samples: the modified samples\n",
    "    \"\"\"\n",
    "    bin_width = abs(bins[1] - bins[0])\n",
    "\n",
    "    # make a copy, shuffling cannot be performed in situ\n",
    "    shuffled_samples = np.empty_like(samples)\n",
    "    shuffled_samples[:] = samples\n",
    "\n",
    "    for id1, v in enumerate(permutation):\n",
    "\n",
    "        # retrieve index of target bin\n",
    "        id2 = v\n",
    "\n",
    "        if id1 < len(bins) - 1:\n",
    "            for i, x in enumerate(samples):\n",
    "                if bins[id1] <= x < bins[id1 + 1]:\n",
    "                    shuffled_samples[i] = x + ((id2 - id1) * bin_width)\n",
    "\n",
    "    return shuffled_samples\n"
   ]
  },
  {
   "cell_type": "code",
   "execution_count": 3,
   "metadata": {
    "collapsed": false
   },
   "outputs": [
    {
     "name": "stdout",
     "output_type": "stream",
     "text": [
      "257\n",
      "Orig histogram and inverted shuffled histogram are equal\n"
     ]
    },
    {
     "data": {
      "image/png": "[encoded data removed]",
      "text/plain": [
       "<matplotlib.figure.Figure at 0x109773160>"
      ]
     },
     "metadata": {},
     "output_type": "display_data"
    }
   ],
   "source": [
    "samples, samplerate = sf.read('../res/testing/original_test_files/misc/440_sine.wav', dtype=np.int16)\n",
    "samples = samples[:,0]\n",
    "la = 2.5\n",
    "\n",
    "min_val = -1 * 2**7\n",
    "max_val = 2**7\n",
    "\n",
    "bins0 = np.arange(min_val, max_val+1, step=1)\n",
    "print(len(bins0))\n",
    "hist0, bins0 = np.histogram(samples, bins0, (min_val, max_val+1))\n",
    "\n",
    "permutation = permutation_utils.generate_random_permutation(len(bins0)-1)\n",
    "                                                \n",
    "shuffled_samples = permute_histogram(samples, bins0, permutation)\n",
    "\n",
    "inv_perm = permutation_utils.invert(permutation)\n",
    "inverted_samples = permute_histogram(shuffled_samples, bins0, inv_perm)\n",
    "\n",
    "hist1, bins1 = np.histogram(shuffled_samples, bins0, (min_val, max_val))\n",
    "hist2, bins2 = np.histogram(inverted_samples, bins0, (min_val, max_val))\n",
    "\n",
    "if np.array_equal(hist0, hist2):\n",
    "    print(\"Orig histogram and inverted shuffled histogram are equal\")\n",
    "\n",
    "# visualize the histograms\n",
    "width0 = 0.7 * (bins0[1] - bins0[0])\n",
    "center0 = (bins0[:-1] + bins0[1:]) / 2\n",
    "\n",
    "width1 = 0.7 * (bins1[1] - bins1[0])\n",
    "center1 = (bins1[:-1] + bins1[1:]) / 2\n",
    "\n",
    "width2 = 0.7 * (bins2[1] - bins2[0])\n",
    "center2 = (bins2[:-1] + bins2[1:]) / 2\n",
    "\n",
    "fig, axes = plt.subplots(nrows=1, ncols=3, figsize=(15, 6))\n",
    "ax = axes.flat\n",
    "ax[0].bar(center0, hist0, align='center', width=width0)\n",
    "ax[0].set_title(\"Original histogram\")\n",
    "\n",
    "ax[1].bar(center1, hist1, align='center', width=width1)\n",
    "ax[1].set_title(\"Permuted histogram\")\n",
    "\n",
    "ax[2].bar(center2, hist2, align='center', width=width1)\n",
    "ax[2].set_title(\"Histogram after inverse permutation\")\n",
    "\n",
    "plt.show()"
   ]
  },
  {
   "cell_type": "markdown",
   "metadata": {},
   "source": [
    "## Perform watermark detection in permuted histogram\n",
    "To perofrm watermark detection within a permuted histogram, it is necessary to alter the detection key according to the histogram permutation. This can be achieved by applying $P_H(k_WM)$, which replaces the elements (the bin ids) with the entries $P_H(k_{ij})$."
   ]
  },
  {
   "cell_type": "code",
   "execution_count": 5,
   "metadata": {
    "collapsed": false
   },
   "outputs": [
    {
     "name": "stdout",
     "output_type": "stream",
     "text": [
      "=============================================\n",
      "Embedding  [0 1 1 0 1 0 1 1 0 0 1 1 1 1 0 0 1 1]  via combined method\n",
      "---------------------------------------------\n",
      "in channel #0\n",
      "---------------------------------------------\n",
      "Permutation:\n",
      " [ 87  35  67  99  29  23  17  11   5  77  57  47  95  83 105  63  73  53\n",
      "  43  41  51  61  81  93  45  55  75   3   9  15  21  27  65 107  85  33\n",
      "  97 103  71  39  49  59  79  91   1   7  13  19  25  31 101  69  37  89\n",
      "  88  36  68 100  30  24  18  12   6   0  90  78  58  48  38  70 102  96\n",
      "  32  84 106  64  26  20  14   8   2  74  54  44  92  80  60  50  40  42\n",
      "  52  72  62 104  82  94  46  56  76   4  10  16  22  28  98  66  34  86]\n",
      "Orig: 57 :  75 -- 51 :  59\n",
      "Shuf: 100 :  75 -- 69 :  59\n",
      "Orig: 102 :  5 -- 106 :  18\n",
      "Shuf: 22 :  5 -- 34 :  18\n",
      "Orig: 83 :  36 -- 88 :  44\n",
      "Shuf: 44 :  36 -- 40 :  44\n",
      "Orig: 42 :  68 -- 46 :  50\n",
      "Shuf: 79 :  68 -- 13 :  50\n",
      "Orig: 35 :  32 -- 27 :  44\n",
      "Shuf: 33 :  32 -- 3 :  44\n",
      "Orig: 77 :  43 -- 80 :  35\n",
      "Shuf: 20 :  43 -- 2 :  35\n",
      "Orig: 11 :  20 -- 18 :  32\n",
      "Shuf: 47 :  20 -- 43 :  32\n",
      "Orig: 81 :  43 -- 82 :  47\n",
      "Shuf: 74 :  43 -- 54 :  47\n",
      "Orig: 103 :  20 -- 100 :  14\n",
      "Shuf: 28 :  20 -- 10 :  14\n",
      "Orig: 16 :  29 -- 15 :  17\n",
      "Shuf: 73 :  29 -- 63 :  17\n",
      "Orig: 10 :  13 -- 4 :  26\n",
      "Shuf: 57 :  13 -- 29 :  26\n",
      "Orig: 107 :  10 -- 104 :  20\n",
      "Shuf: 86 :  10 -- 98 :  20\n",
      "Orig: 26 :  24 -- 17 :  46\n",
      "Shuf: 75 :  24 -- 53 :  46\n",
      "Orig: 62 :  41 -- 70 :  68\n",
      "Shuf: 6 :  41 -- 102 :  68\n",
      "Orig: 52 :  423 -- 53 :  60\n",
      "Shuf: 37 :  423 -- 89 :  60\n",
      "Orig: 72 :  60 -- 63 :  42\n",
      "Shuf: 32 :  60 -- 0 :  42\n",
      "Orig: 69 :  52 -- 74 :  60\n",
      "Shuf: 70 :  52 -- 106 :  60\n",
      "Orig: 59 :  60 -- 60 :  64\n",
      "Shuf: 24 :  60 -- 18 :  64\n",
      "=============================================\n",
      "Detecting watermark\n",
      "---------------------------------------------\n",
      "in channel #0\n",
      "---------------------------------------------\n",
      "---------------------------------------------\n",
      "Syn:\n",
      " [0 1 1 0 1 0]\n",
      "Best match:\n",
      " [0 1 1 0 1 0]\n",
      "Mean:  1510.06545455\n",
      "---------------------------------------------\n",
      "Original and recovered mark match\n",
      "[0 1 1 0 1 0 1 1 0 0 1 1 1 1 0 0 1 1]\n",
      "[0 1 1 0 1 0 1 1 0 0 1 1 1 1 0 0 1 1]\n"
     ]
    }
   ],
   "source": [
    "# Read a test signal\n",
    "samples, samplerate = sf.read('../res/testing/original_test_files/misc/440_sine.wav', dtype=np.int16)\n",
    "samples = samples[:, 0] # only mono for the sake of clarity\n",
    "\n",
    "# Define some watermarking paramters\n",
    "la = 2.5\n",
    "seed = 33\n",
    "bin_threshold = 3\n",
    "\n",
    "# Store it for later use (necessary to extract the same histogram)\n",
    "mean = XsWMSystem.mean_of_absolute_values(samples)\n",
    "\n",
    "# Define an arbitrary watermark\n",
    "wmk= np.array([0,1,1,0,1,0,1,1,0,0,1,1,1,1,0,0,1,1])\n",
    "syn = wmk[0:6]\n",
    "num_bins = 6*len(wmk)\n",
    "\n",
    "# Construct the watermarking system and embed the mark\n",
    "wm_sys = XsWMSystem(num_bins=num_bins, la=la, threshold=bin_threshold)\n",
    "marked_samples, bp = wm_sys.embed_watermark(samples, wmk, key=seed)\n",
    "\n",
    "# Generate the histogram, which will be permuted\n",
    "hist0, bins0 = wm_sys.generate_histogram(marked_samples, la, num_bins, mean)\n",
    "\n",
    "# Generate the permutation\n",
    "permutation = permutation_utils.generate_random_permutation(len(hist0))\n",
    "print(\"Permutation:\\n\", permutation)\n",
    "\n",
    "# Apply permutation to histogram\n",
    "shuffled_samples = permutation_utils.permute_histogram(marked_samples, bins0, permutation)\n",
    "# Apply permutation to the watermark key\n",
    "sbp = permutation_utils.permute_wmk_bins(bp, permutation)\n",
    "\n",
    "# Form resulting histogram and show, that the considered bin heights are equal\n",
    "hist1, bins1 = wm_sys.generate_histogram(shuffled_samples, la, num_bins, mean)\n",
    "for i in range(len(bp)):\n",
    "    print(\"Orig:\", bp[i][0],\": \",hist0[bp[i][0]],\"--\", bp[i][1], \": \", hist0[bp[i][1]] )\n",
    "    print(\"Shuf:\", sbp[i][0],\": \",hist1[sbp[i][0]],\"--\", sbp[i][1], \": \", hist1[sbp[i][1]] )\n",
    "\n",
    "# Extract the mark\n",
    "wmk2 = wm_sys.extract_watermark(shuffled_samples, key=sbp, syn=syn)\n",
    "\n",
    "# Check results\n",
    "if np.array_equal(wmk, wmk2):\n",
    "    print('Original and recovered mark match')\n",
    "print(wmk)\n",
    "print(wmk2)\n"
   ]
  },
  {
   "cell_type": "code",
   "execution_count": null,
   "metadata": {
    "collapsed": true
   },
   "outputs": [],
   "source": []
  }
 ],
 "metadata": {
  "kernelspec": {
   "display_name": "Python 3",
   "language": "python",
   "name": "python3"
  },
  "language_info": {
   "codemirror_mode": {
    "name": "ipython",
    "version": 3
   },
   "file_extension": ".py",
   "mimetype": "text/x-python",
   "name": "python",
   "nbconvert_exporter": "python",
   "pygments_lexer": "ipython3",
   "version": "3.5.1"
  }
 },
 "nbformat": 4,
 "nbformat_minor": 0
}
